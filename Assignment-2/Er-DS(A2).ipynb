{
 "cells": [
  {
   "cell_type": "code",
   "execution_count": 96,
   "id": "195b8dba",
   "metadata": {},
   "outputs": [],
   "source": [
    "import pandas as pd\n",
    "import seaborn as sns\n",
    "import matplotlib.pyplot as plt\n",
    "import numpy as np\n",
    "import statistics"
   ]
  },
  {
   "cell_type": "markdown",
   "id": "27e6d4c6",
   "metadata": {},
   "source": [
    "# Set_1"
   ]
  },
  {
   "cell_type": "code",
   "execution_count": 99,
   "id": "0866ecf5",
   "metadata": {},
   "outputs": [
    {
     "data": {
      "text/html": [
       "<div>\n",
       "<style scoped>\n",
       "    .dataframe tbody tr th:only-of-type {\n",
       "        vertical-align: middle;\n",
       "    }\n",
       "\n",
       "    .dataframe tbody tr th {\n",
       "        vertical-align: top;\n",
       "    }\n",
       "\n",
       "    .dataframe thead th {\n",
       "        text-align: right;\n",
       "    }\n",
       "</style>\n",
       "<table border=\"1\" class=\"dataframe\">\n",
       "  <thead>\n",
       "    <tr style=\"text-align: right;\">\n",
       "      <th></th>\n",
       "      <th>Name of company</th>\n",
       "      <th>Measure X</th>\n",
       "    </tr>\n",
       "  </thead>\n",
       "  <tbody>\n",
       "    <tr>\n",
       "      <th>0</th>\n",
       "      <td>Allied Signal</td>\n",
       "      <td>24.23%</td>\n",
       "    </tr>\n",
       "    <tr>\n",
       "      <th>1</th>\n",
       "      <td>Bankers Trust</td>\n",
       "      <td>25.53%</td>\n",
       "    </tr>\n",
       "    <tr>\n",
       "      <th>2</th>\n",
       "      <td>General Mills</td>\n",
       "      <td>25.41%</td>\n",
       "    </tr>\n",
       "    <tr>\n",
       "      <th>3</th>\n",
       "      <td>ITT Industries</td>\n",
       "      <td>24.14%</td>\n",
       "    </tr>\n",
       "    <tr>\n",
       "      <th>4</th>\n",
       "      <td>J.P.Morgan &amp; Co.</td>\n",
       "      <td>29.62%</td>\n",
       "    </tr>\n",
       "    <tr>\n",
       "      <th>5</th>\n",
       "      <td>Lehman Brothers</td>\n",
       "      <td>28.25%</td>\n",
       "    </tr>\n",
       "    <tr>\n",
       "      <th>6</th>\n",
       "      <td>Marriott</td>\n",
       "      <td>25.81%</td>\n",
       "    </tr>\n",
       "    <tr>\n",
       "      <th>7</th>\n",
       "      <td>MCI</td>\n",
       "      <td>24.39%</td>\n",
       "    </tr>\n",
       "    <tr>\n",
       "      <th>8</th>\n",
       "      <td>Merrill Lynch</td>\n",
       "      <td>40.26%</td>\n",
       "    </tr>\n",
       "    <tr>\n",
       "      <th>9</th>\n",
       "      <td>Microsoft</td>\n",
       "      <td>32.95%</td>\n",
       "    </tr>\n",
       "    <tr>\n",
       "      <th>10</th>\n",
       "      <td>Morgan Stanley</td>\n",
       "      <td>91.36%</td>\n",
       "    </tr>\n",
       "    <tr>\n",
       "      <th>11</th>\n",
       "      <td>Sun Microsystems</td>\n",
       "      <td>25.99%</td>\n",
       "    </tr>\n",
       "    <tr>\n",
       "      <th>12</th>\n",
       "      <td>Travelers</td>\n",
       "      <td>39.42%</td>\n",
       "    </tr>\n",
       "    <tr>\n",
       "      <th>13</th>\n",
       "      <td>US Airways</td>\n",
       "      <td>26.71%</td>\n",
       "    </tr>\n",
       "    <tr>\n",
       "      <th>14</th>\n",
       "      <td>Warner-Lambert</td>\n",
       "      <td>35.00%</td>\n",
       "    </tr>\n",
       "  </tbody>\n",
       "</table>\n",
       "</div>"
      ],
      "text/plain": [
       "     Name of company Measure X\n",
       "0      Allied Signal    24.23%\n",
       "1      Bankers Trust    25.53%\n",
       "2      General Mills    25.41%\n",
       "3     ITT Industries    24.14%\n",
       "4   J.P.Morgan & Co.    29.62%\n",
       "5    Lehman Brothers    28.25%\n",
       "6           Marriott    25.81%\n",
       "7                MCI    24.39%\n",
       "8      Merrill Lynch    40.26%\n",
       "9          Microsoft    32.95%\n",
       "10    Morgan Stanley    91.36%\n",
       "11  Sun Microsystems    25.99%\n",
       "12         Travelers    39.42%\n",
       "13        US Airways    26.71%\n",
       "14    Warner-Lambert    35.00%"
      ]
     },
     "execution_count": 99,
     "metadata": {},
     "output_type": "execute_result"
    }
   ],
   "source": [
    "df = pd.read_csv(\"C:/Users/Shivani Bhavsar/OneDrive/Documents/ExcelR Assignment files/DS/A2/A-2,SET+1.csv\")\n",
    "df"
   ]
  },
  {
   "cell_type": "code",
   "execution_count": 100,
   "id": "ebeb2d9d",
   "metadata": {},
   "outputs": [
    {
     "data": {
      "text/html": [
       "<div>\n",
       "<style scoped>\n",
       "    .dataframe tbody tr th:only-of-type {\n",
       "        vertical-align: middle;\n",
       "    }\n",
       "\n",
       "    .dataframe tbody tr th {\n",
       "        vertical-align: top;\n",
       "    }\n",
       "\n",
       "    .dataframe thead th {\n",
       "        text-align: right;\n",
       "    }\n",
       "</style>\n",
       "<table border=\"1\" class=\"dataframe\">\n",
       "  <thead>\n",
       "    <tr style=\"text-align: right;\">\n",
       "      <th></th>\n",
       "      <th>Name of company</th>\n",
       "      <th>Measure X</th>\n",
       "    </tr>\n",
       "  </thead>\n",
       "  <tbody>\n",
       "    <tr>\n",
       "      <th>count</th>\n",
       "      <td>15</td>\n",
       "      <td>15</td>\n",
       "    </tr>\n",
       "    <tr>\n",
       "      <th>unique</th>\n",
       "      <td>15</td>\n",
       "      <td>15</td>\n",
       "    </tr>\n",
       "    <tr>\n",
       "      <th>top</th>\n",
       "      <td>Allied Signal</td>\n",
       "      <td>24.23%</td>\n",
       "    </tr>\n",
       "    <tr>\n",
       "      <th>freq</th>\n",
       "      <td>1</td>\n",
       "      <td>1</td>\n",
       "    </tr>\n",
       "  </tbody>\n",
       "</table>\n",
       "</div>"
      ],
      "text/plain": [
       "       Name of company Measure X\n",
       "count               15        15\n",
       "unique              15        15\n",
       "top      Allied Signal    24.23%\n",
       "freq                 1         1"
      ]
     },
     "execution_count": 100,
     "metadata": {},
     "output_type": "execute_result"
    }
   ],
   "source": [
    "df.describe()"
   ]
  },
  {
   "cell_type": "code",
   "execution_count": 101,
   "id": "2c825b3b",
   "metadata": {},
   "outputs": [
    {
     "name": "stdout",
     "output_type": "stream",
     "text": [
      "<class 'pandas.core.frame.DataFrame'>\n",
      "RangeIndex: 15 entries, 0 to 14\n",
      "Data columns (total 2 columns):\n",
      " #   Column           Non-Null Count  Dtype \n",
      "---  ------           --------------  ----- \n",
      " 0   Name of company  15 non-null     object\n",
      " 1   Measure X        15 non-null     object\n",
      "dtypes: object(2)\n",
      "memory usage: 368.0+ bytes\n"
     ]
    }
   ],
   "source": [
    "df.info()"
   ]
  },
  {
   "cell_type": "code",
   "execution_count": 102,
   "id": "eba9193b",
   "metadata": {},
   "outputs": [],
   "source": [
    "df[\"Measure X\"] = df[\"Measure X\"].str.rstrip('%').astype('float') / 100.0\n",
    "#we divide the array in its entirety by 100.0 to convert from percentage to actual value. For example, 45% is equivalent to 0.45."
   ]
  },
  {
   "cell_type": "code",
   "execution_count": 103,
   "id": "c8e48646",
   "metadata": {},
   "outputs": [
    {
     "name": "stdout",
     "output_type": "stream",
     "text": [
      "<class 'pandas.core.frame.DataFrame'>\n",
      "RangeIndex: 15 entries, 0 to 14\n",
      "Data columns (total 2 columns):\n",
      " #   Column           Non-Null Count  Dtype  \n",
      "---  ------           --------------  -----  \n",
      " 0   Name of company  15 non-null     object \n",
      " 1   Measure X        15 non-null     float64\n",
      "dtypes: float64(1), object(1)\n",
      "memory usage: 368.0+ bytes\n"
     ]
    }
   ],
   "source": [
    "df.info()"
   ]
  },
  {
   "cell_type": "code",
   "execution_count": 104,
   "id": "da09bbc0",
   "metadata": {},
   "outputs": [
    {
     "data": {
      "text/plain": [
       "mean    0.332713\n",
       "std     0.169454\n",
       "var     0.028715\n",
       "Name: Measure X, dtype: float64"
      ]
     },
     "execution_count": 104,
     "metadata": {},
     "output_type": "execute_result"
    }
   ],
   "source": [
    "df[\"Measure X\"].agg([\"mean\",\"std\",\"var\"])"
   ]
  },
  {
   "cell_type": "code",
   "execution_count": 106,
   "id": "c876391a",
   "metadata": {},
   "outputs": [
    {
     "data": {
      "image/png": "[encoded data removed]",
      "text/plain": [
       "<Figure size 720x504 with 1 Axes>"
      ]
     },
     "metadata": {
      "needs_background": "light"
     },
     "output_type": "display_data"
    }
   ],
   "source": [
    "plt.figure(figsize =(10, 7))\n",
    "sns.boxplot(x=\"Measure X\", data=df ,color = \"green\",)\n",
    "plt.show()\n",
    "                                         "
   ]
  },
  {
   "cell_type": "code",
   "execution_count": 113,
   "id": "c7206372",
   "metadata": {},
   "outputs": [
    {
     "data": {
      "text/plain": [
       "0.08504999999999996"
      ]
     },
     "execution_count": 113,
     "metadata": {},
     "output_type": "execute_result"
    }
   ],
   "source": [
    "Q25per=df[\"Measure X\"].quantile(0.25)\n",
    "Q75per=df[\"Measure X\"].quantile(0.75)\n",
    "IQR = Q75per - Q25per\n",
    "IQR"
   ]
  },
  {
   "cell_type": "code",
   "execution_count": 114,
   "id": "2e789cd0",
   "metadata": {},
   "outputs": [],
   "source": [
    "Q3 = Q75per + 1.5 * IQR\n",
    "Q1 = Q25per - 1.5 * IQR"
   ]
  },
  {
   "cell_type": "code",
   "execution_count": 119,
   "id": "bc4a2743",
   "metadata": {},
   "outputs": [
    {
     "data": {
      "text/html": [
       "<div>\n",
       "<style scoped>\n",
       "    .dataframe tbody tr th:only-of-type {\n",
       "        vertical-align: middle;\n",
       "    }\n",
       "\n",
       "    .dataframe tbody tr th {\n",
       "        vertical-align: top;\n",
       "    }\n",
       "\n",
       "    .dataframe thead th {\n",
       "        text-align: right;\n",
       "    }\n",
       "</style>\n",
       "<table border=\"1\" class=\"dataframe\">\n",
       "  <thead>\n",
       "    <tr style=\"text-align: right;\">\n",
       "      <th></th>\n",
       "      <th>Name of company</th>\n",
       "      <th>Measure X</th>\n",
       "    </tr>\n",
       "  </thead>\n",
       "  <tbody>\n",
       "    <tr>\n",
       "      <th>10</th>\n",
       "      <td>Morgan Stanley</td>\n",
       "      <td>0.9136</td>\n",
       "    </tr>\n",
       "  </tbody>\n",
       "</table>\n",
       "</div>"
      ],
      "text/plain": [
       "   Name of company  Measure X\n",
       "10  Morgan Stanley     0.9136"
      ]
     },
     "execution_count": 119,
     "metadata": {},
     "output_type": "execute_result"
    }
   ],
   "source": [
    "df[(df[\"Measure X\"] < Q1) |  (df[\"Measure X\"] > Q3)]"
   ]
  },
  {
   "cell_type": "code",
   "execution_count": null,
   "id": "dfbf954a",
   "metadata": {},
   "outputs": [],
   "source": [
    "#df2 = df[\"Measure X\"].replace(\"25\",\"2.5\")"
   ]
  },
  {
   "cell_type": "markdown",
   "id": "7a0c9fff",
   "metadata": {},
   "source": [
    "# Set_2"
   ]
  },
  {
   "cell_type": "code",
   "execution_count": null,
   "id": "8c922236",
   "metadata": {},
   "outputs": [],
   "source": [
    "#Q1) mean = 45, S.D. = 8 , x=50\n",
    "from scipy.stats import norm\n",
    "1-norm.cdf(50,loc = 45,scale = 8)"
   ]
  },
  {
   "cell_type": "code",
   "execution_count": null,
   "id": "038d86b1",
   "metadata": {},
   "outputs": [],
   "source": [
    "#Q2) mean = 38, S.D. = 6 , x=400\n",
    "norm.cdf(30 ,loc = 38,scale = 6) , 0.09121*400"
   ]
  },
  {
   "cell_type": "code",
   "execution_count": null,
   "id": "e879cc23",
   "metadata": {},
   "outputs": [],
   "source": [
    "#Q4) mean = 100, S.D. = 20 , x= ?  , z=0.995\n",
    "norm.ppf(0.995)"
   ]
  },
  {
   "cell_type": "code",
   "execution_count": null,
   "id": "6fc0af60",
   "metadata": {},
   "outputs": [],
   "source": [
    "norm.ppf(0.995 ,loc = 100 ,scale = 20), norm.ppf(0.005 ,loc = 100 ,scale = 20)"
   ]
  },
  {
   "cell_type": "code",
   "execution_count": null,
   "id": "064db07c",
   "metadata": {},
   "outputs": [],
   "source": [
    "#Q5) (A)\n",
    "from scipy.stats import norm \n",
    "norm.interval(0.975 ,loc = 45*5 ,scale = 3) , norm.interval(0.975 ,loc = 45*7 ,scale = 4)"
   ]
  },
  {
   "cell_type": "code",
   "execution_count": null,
   "id": "6d7a11e2",
   "metadata": {},
   "outputs": [],
   "source": [
    "#Q5) (B)\n",
    "norm.ppf(0.05 ,loc = 45*5 ,scale = 3) , norm.ppf(0.05 ,loc = 45*7 ,scale = 4)"
   ]
  },
  {
   "cell_type": "markdown",
   "id": "e8092095",
   "metadata": {},
   "source": [
    "# Set_4"
   ]
  },
  {
   "cell_type": "code",
   "execution_count": null,
   "id": "bad97f7e",
   "metadata": {},
   "outputs": [],
   "source": [
    "#Q2) \n",
    "norm.cdf(25 ,loc = 22 ,scale = 5) "
   ]
  },
  {
   "cell_type": "code",
   "execution_count": null,
   "id": "01aacdfe",
   "metadata": {},
   "outputs": [],
   "source": [
    "x = np.arange(0, 25, 0.1)\n",
    "plt.plot(x, norm.pdf(x, 22, 5) ,color='red', linewidth=3 ,label='μ:22, σ:5')\n",
    "plt.legend()\n",
    "plt.show()"
   ]
  },
  {
   "cell_type": "code",
   "execution_count": null,
   "id": "4ad3ef7c",
   "metadata": {},
   "outputs": [],
   "source": [
    "norm.cdf(100 ,loc = 50 ,scale = 40)"
   ]
  },
  {
   "cell_type": "code",
   "execution_count": null,
   "id": "8a286c95",
   "metadata": {},
   "outputs": [],
   "source": [
    "norm.cdf(100 ,loc = 45 ,scale = 40)-0.5"
   ]
  },
  {
   "cell_type": "code",
   "execution_count": null,
   "id": "aff672b5",
   "metadata": {},
   "outputs": [],
   "source": [
    "norm.cdf(100 ,loc = 55 ,scale = 40)-0.5"
   ]
  }
 ],
 "metadata": {
  "kernelspec": {
   "display_name": "Python 3 (ipykernel)",
   "language": "python",
   "name": "python3"
  },
  "language_info": {
   "codemirror_mode": {
    "name": "ipython",
    "version": 3
   },
   "file_extension": ".py",
   "mimetype": "text/x-python",
   "name": "python",
   "nbconvert_exporter": "python",
   "pygments_lexer": "ipython3",
   "version": "3.9.7"
  }
 },
 "nbformat": 4,
 "nbformat_minor": 5
}
